{
  "nbformat": 4,
  "nbformat_minor": 0,
  "metadata": {
    "colab": {
      "provenance": []
    },
    "kernelspec": {
      "name": "python3",
      "display_name": "Python 3"
    },
    "language_info": {
      "name": "python"
    }
  },
  "cells": [
    {
      "cell_type": "markdown",
      "source": [
        "#Converting Pdf to CSV using Tabula-py python library"
      ],
      "metadata": {
        "id": "Fv7BSGrg6Nf-"
      }
    },
    {
      "cell_type": "markdown",
      "source": [
        "Installing the Tabula-py library"
      ],
      "metadata": {
        "id": "2bLdF5sVt3YB"
      }
    },
    {
      "cell_type": "code",
      "source": [
        "!pip install tabula-py"
      ],
      "metadata": {
        "colab": {
          "base_uri": "https://localhost:8080/"
        },
        "id": "TynHzqG7rXZZ",
        "outputId": "cff75514-74e2-482d-eb20-3abb6fe18f06"
      },
      "execution_count": 2,
      "outputs": [
        {
          "output_type": "stream",
          "name": "stdout",
          "text": [
            "Looking in indexes: https://pypi.org/simple, https://us-python.pkg.dev/colab-wheels/public/simple/\n",
            "Collecting tabula-py\n",
            "  Downloading tabula_py-2.7.0-py3-none-any.whl (12.0 MB)\n",
            "\u001b[2K     \u001b[90m━━━━━━━━━━━━━━━━━━━━━━━━━━━━━━━━━━━━━━━━\u001b[0m \u001b[32m12.0/12.0 MB\u001b[0m \u001b[31m52.8 MB/s\u001b[0m eta \u001b[36m0:00:00\u001b[0m\n",
            "\u001b[?25hRequirement already satisfied: pandas>=0.25.3 in /usr/local/lib/python3.8/dist-packages (from tabula-py) (1.3.5)\n",
            "Collecting distro\n",
            "  Downloading distro-1.8.0-py3-none-any.whl (20 kB)\n",
            "Requirement already satisfied: numpy in /usr/local/lib/python3.8/dist-packages (from tabula-py) (1.22.4)\n",
            "Requirement already satisfied: pytz>=2017.3 in /usr/local/lib/python3.8/dist-packages (from pandas>=0.25.3->tabula-py) (2022.7.1)\n",
            "Requirement already satisfied: python-dateutil>=2.7.3 in /usr/local/lib/python3.8/dist-packages (from pandas>=0.25.3->tabula-py) (2.8.2)\n",
            "Requirement already satisfied: six>=1.5 in /usr/local/lib/python3.8/dist-packages (from python-dateutil>=2.7.3->pandas>=0.25.3->tabula-py) (1.15.0)\n",
            "Installing collected packages: distro, tabula-py\n",
            "Successfully installed distro-1.8.0 tabula-py-2.7.0\n"
          ]
        }
      ]
    },
    {
      "cell_type": "markdown",
      "source": [
        "Importing the Tabula-py library"
      ],
      "metadata": {
        "id": "dJBuOKmTt7Gg"
      }
    },
    {
      "cell_type": "code",
      "source": [
        "import tabula"
      ],
      "metadata": {
        "id": "9pfwbVMsGnZe"
      },
      "execution_count": 3,
      "outputs": []
    },
    {
      "cell_type": "markdown",
      "source": [
        "Mounting the drive"
      ],
      "metadata": {
        "id": "-q057_79t-c1"
      }
    },
    {
      "cell_type": "code",
      "source": [
        "from google.colab import drive\n",
        "drive.mount('/content/drive')"
      ],
      "metadata": {
        "colab": {
          "base_uri": "https://localhost:8080/"
        },
        "id": "ldBGbuGXrYZh",
        "outputId": "73c8352a-4234-4ad8-96b4-ce98d456237a"
      },
      "execution_count": 4,
      "outputs": [
        {
          "output_type": "stream",
          "name": "stdout",
          "text": [
            "Mounted at /content/drive\n"
          ]
        }
      ]
    },
    {
      "cell_type": "markdown",
      "source": [
        "Setting the file path"
      ],
      "metadata": {
        "id": "QNrCzMzEuDjN"
      }
    },
    {
      "cell_type": "code",
      "source": [
        "# set the file path\n",
        "file_path = '/content/drive/MyDrive/Github_projects/abcd.pdf'"
      ],
      "metadata": {
        "id": "-REGTHF6rRXD"
      },
      "execution_count": 5,
      "outputs": []
    },
    {
      "cell_type": "markdown",
      "source": [
        "Extracting the tables from the pdf file"
      ],
      "metadata": {
        "id": "uV5mO8e2uQur"
      }
    },
    {
      "cell_type": "code",
      "source": [
        "# extract tables from the PDF file\n",
        "tables = tabula.read_pdf(file_path, pages='all')"
      ],
      "metadata": {
        "colab": {
          "base_uri": "https://localhost:8080/"
        },
        "id": "-ZZG9L63rCQZ",
        "outputId": "5f2925a8-eb6c-4290-e0bd-9a53e60a811b"
      },
      "execution_count": 6,
      "outputs": [
        {
          "output_type": "stream",
          "name": "stderr",
          "text": [
            "WARNING:tabula.io:Got stderr: Feb 24, 2023 6:33:12 PM org.apache.pdfbox.pdmodel.font.FileSystemFontProvider loadDiskCache\n",
            "WARNING: New fonts found, font cache will be re-built\n",
            "Feb 24, 2023 6:33:12 PM org.apache.pdfbox.pdmodel.font.FileSystemFontProvider <init>\n",
            "WARNING: Building on-disk font cache, this may take a while\n",
            "Feb 24, 2023 6:33:12 PM org.apache.pdfbox.pdmodel.font.FileSystemFontProvider <init>\n",
            "WARNING: Finished building on-disk font cache, found 17 fonts\n",
            "\n"
          ]
        }
      ]
    },
    {
      "cell_type": "markdown",
      "source": [
        "Using for loop to iterate through the tables and extract the data and convert it into a CSV file"
      ],
      "metadata": {
        "id": "dCWP26KEuVNq"
      }
    },
    {
      "cell_type": "code",
      "source": [
        "# loop through each table and convert to CSV file\n",
        "for i, table in enumerate(tables):\n",
        "    table.to_csv(f'/content/drive/MyDrive/Github_projects/table_{i}.csv', index=False)"
      ],
      "metadata": {
        "id": "ZYWqgwMlrCFm"
      },
      "execution_count": 7,
      "outputs": []
    },
    {
      "cell_type": "code",
      "source": [],
      "metadata": {
        "id": "_FnRTSKjrCB0"
      },
      "execution_count": null,
      "outputs": []
    }
  ]
}